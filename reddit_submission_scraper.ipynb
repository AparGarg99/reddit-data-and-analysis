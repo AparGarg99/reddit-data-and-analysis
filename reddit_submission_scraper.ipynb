{
 "cells": [
  {
   "cell_type": "code",
   "execution_count": 2,
   "metadata": {},
   "outputs": [],
   "source": [
    "import praw\n",
    "import pandas as pd\n",
    "import json\n",
    "\n",
    "import datetime\n",
    "from timeit import default_timer as timer\n",
    "\n",
    "#testing autocomplete\n",
    "%config IPCompleter.greedy=True\n",
    "\n",
    "#Suppresses SettingsWithCopy warnings\n",
    "#pd.options.mode.chained_assignment = None\n",
    "\n",
    "#removes wrapping from displayed dataframes\n",
    "pd.set_option('display.expand_frame_repr', False)\n",
    "\n",
    "# Increase DF column width?\n",
    "# pandas.set_option('display.max_colwidth', 1000)"
   ]
  },
  {
   "cell_type": "code",
   "execution_count": 3,
   "metadata": {},
   "outputs": [],
   "source": [
    "client_id=''\n",
    "client_secret=''\n",
    "reddit_user_agent='test code for /u/AssailantTLD'"
   ]
  },
  {
   "cell_type": "code",
   "execution_count": 4,
   "metadata": {},
   "outputs": [],
   "source": [
    "reddit = praw.Reddit(client_id=client_id,\n",
    "                     client_secret=client_secret,\n",
    "                     user_agent=reddit_user_agent)"
   ]
  },
  {
   "cell_type": "code",
   "execution_count": 35,
   "metadata": {},
   "outputs": [],
   "source": [
    "# TIME STAMPS\n",
    "# Jan-1-2016 = 1451606415\n",
    "# Dec-31-2017 = 1514764755\n",
    "# May-1-2017 = 1493596800\n",
    "# May-20-2017 = 1495324740"
   ]
  },
  {
   "cell_type": "code",
   "execution_count": 5,
   "metadata": {},
   "outputs": [],
   "source": [
    "sub_name = 'the_Donald'"
   ]
  },
  {
   "cell_type": "code",
   "execution_count": 8,
   "metadata": {},
   "outputs": [],
   "source": [
    "def submission_scraper(sub_name):\n",
    "    \n",
    "    #start_time = time.time()\n",
    "    start_timer = timer()\n",
    "    current_date = datetime.date.today()\n",
    "    \n",
    "    start_date = 1493596800\n",
    "    end_date = 1495324740\n",
    "    \n",
    "    subreddit = reddit.subreddit(sub_name)\n",
    "    submission_count = 0\n",
    "    subreddit_submission_info = []\n",
    "    fields = ('title', 'score', 'author', 'subreddit','selftext', 'num_comments', 'created_utc', 'gilded', 'url')\n",
    "\n",
    "    for submission in subreddit.submissions(start_date, end_date): #hot(limit=100):\n",
    "        to_dict = (vars(submission))\n",
    "        individual_submission_dict = {field:str(to_dict[field]) for field in fields}\n",
    "        #individual_submission_dict ['author'] = str(submission.author)\n",
    "        subreddit_submission_info.append(individual_submission_dict)\n",
    "        submission_count += 1\n",
    "        \n",
    "\n",
    "    json_str = json.dumps(subreddit_submission_info)\n",
    "        \n",
    "    with open(subreddit.display_name + '-' + str(current_date) + '-data.json', 'w', encoding='utf-8') as file:\n",
    "        json.dump(subreddit_submission_info, file)\n",
    "        file.close()\n",
    "    \n",
    "    print('/r/' + str(subreddit.display_name), 'submission count: ' + str(submission_count))\n",
    "    print('File saved as: ' + subreddit.display_name + '-' + str(current_date) + '-data.json')\n",
    "    print('Program took ' + str(timer() - start_timer) + ' seconds to run') #in seconds"
   ]
  },
  {
   "cell_type": "code",
   "execution_count": 9,
   "metadata": {},
   "outputs": [
    {
     "name": "stdout",
     "output_type": "stream",
     "text": [
      "/r/the_Donald submission count: 58334\n",
      "File saved as: the_Donald-2018-03-26-data.json\n",
      "Program took 527.7461322488161 seconds to run\n"
     ]
    }
   ],
   "source": [
    "submission_scraper(sub_name)"
   ]
  },
  {
   "cell_type": "code",
   "execution_count": null,
   "metadata": {},
   "outputs": [],
   "source": [
    "df = pd.read_json(sub_name + '-data.json', convert_dates=['created_utc'])\n",
    "\n",
    "print(df.head())"
   ]
  },
  {
   "cell_type": "code",
   "execution_count": 7,
   "metadata": {},
   "outputs": [
    {
     "name": "stdout",
     "output_type": "stream",
     "text": [
      "https://www.reddit.com/r/learnpython/comments/85fg1v/ask_anything_monday_weekly_thread/\n"
     ]
    }
   ],
   "source": [
    "sub_name = 'learnpython'\n",
    "subreddit = reddit.subreddit(sub_name)\n",
    "\n",
    "start_timer = timer()\n",
    "current_date = datetime.date.today()\n",
    "\n",
    "comment_count = 0\n",
    "comment_info = []\n",
    "comment_fields = ('author', 'created_utc', 'ups', 'downs', 'score', 'body', 'subreddit', 'gilded')\n",
    "\n",
    "for submission in subreddit.hot(limit=1): \n",
    "    submission.comments.replace_more(limit=0)\n",
    "    for comment in submission.comments:\n",
    "       #print(top_level_comment.body)\n",
    "        to_dict = (vars(comment))\n",
    "        individual_comment_dict = {field:str(to_dict[field]) for field in comment_fields}\n",
    "        individual_comment_dict['submission'] = submission.title\n",
    "        #individual_comment_dict ['body'] = str(top_level_comment.body)\n",
    "        comment_info.append(individual_comment_dict)\n",
    "        comment_count += 1\n",
    "        \n",
    "        json_str = json.dumps(comment_info)\n",
    "        \n",
    "with open(subreddit.display_name + '-' + str(current_date) + '-comments' + '-data.json', 'w', encoding='utf-8') as file:\n",
    "    json.dump(comment_info, file)\n",
    "    file.close()\n",
    "    \n",
    "    print('/r/' + str(subreddit.display_name), 'submission count: ' + str(submission_count))\n",
    "    print('File saved as: ' + subreddit.display_name + '-' + str(current_date) + '-comments' + '-data.json')\n",
    "    print('Program took ' + str(timer() - start_timer) + ' seconds to run') #in seconds"
   ]
  }
 ],
 "metadata": {
  "kernelspec": {
   "display_name": "Python 3",
   "language": "python",
   "name": "python3"
  },
  "language_info": {
   "codemirror_mode": {
    "name": "ipython",
    "version": 3
   },
   "file_extension": ".py",
   "mimetype": "text/x-python",
   "name": "python",
   "nbconvert_exporter": "python",
   "pygments_lexer": "ipython3",
   "version": "3.6.4"
  }
 },
 "nbformat": 4,
 "nbformat_minor": 2
}
