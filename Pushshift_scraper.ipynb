{
 "cells": [
  {
   "cell_type": "code",
   "execution_count": 4,
   "metadata": {},
   "outputs": [],
   "source": [
    "import pandas as pd\n",
    "import requests\n",
    "import json"
   ]
  },
  {
   "cell_type": "code",
   "execution_count": 10,
   "metadata": {},
   "outputs": [],
   "source": [
    "def getPushshiftData(after, sub):\n",
    "    url = 'https://api.pushshift.io/reddit/search/submission?&size=1000&after='+str(after)+'&subreddit='+str(sub)+'&filter=id'\n",
    "    r = requests.get(url)\n",
    "    data = json.loads(r.text)\n",
    "    return data['data']"
   ]
  },
  {
   "cell_type": "code",
   "execution_count": 8,
   "metadata": {},
   "outputs": [],
   "source": [
    "#list of post ID's\n",
    "post_ids = []\n",
    "post_titles = []\n",
    "post_subreddits = []\n",
    "#post_upvote_ratios = []\n",
    "post_scores = []\n",
    "\n",
    "#Subreddit to query\n",
    "sub='the_donald'\n",
    "# Unix timestamp of date to crawl from.\n",
    "# 2018/04/01\n",
    "#after = \"1522618956\"\n",
    "#2017/01/01\n",
    "after ='1483239911'"
   ]
  },
  {
   "cell_type": "code",
   "execution_count": null,
   "metadata": {},
   "outputs": [],
   "source": [
    "data = getPushshiftData(after, sub)"
   ]
  },
  {
   "cell_type": "code",
   "execution_count": 11,
   "metadata": {},
   "outputs": [],
   "source": [
    "data = getPushshiftData(after, sub)\n",
    "# Will run until all posts have been gathered \n",
    "# from the 'after' date up until todays date\n",
    "while len(data) > 0:\n",
    "    for submission in data:\n",
    "        post_ids.append(submission[\"id\"])\n",
    "        post_titles.append(submission[\"title\"])\n",
    "        post_subreddits.append(submission[\"subreddit\"])\n",
    "        #post_upvote_ratios.append(submission[\"upvote_ratio\"])\n",
    "        post_scores.append(submission[\"score\"])\n",
    "    # Calls getPushshiftData() with the created date of the last submission\n",
    "    data = getPushshiftData(sub=sub, after=data[-1]['created_utc'])\n",
    "\n",
    "\n",
    "obj = {}\n",
    "obj['sub'] = sub\n",
    "obj['id'] = post_ids\n",
    "obj['title'] = post_titles\n",
    "obj['subreddits'] = post_subreddits\n",
    "#obj['upvote_ratio'] = post_upvote_ratios\n",
    "obj['score'] = post_scores\n",
    "\n",
    "\n",
    "# Save to json for later use\n",
    "with open(sub +\"-submission-ids.json\", \"w\") as jsonFile:\n",
    "    json.dump(obj, jsonFile)"
   ]
  },
  {
   "cell_type": "code",
   "execution_count": null,
   "metadata": {},
   "outputs": [],
   "source": []
  }
 ],
 "metadata": {
  "kernelspec": {
   "display_name": "Python 3",
   "language": "python",
   "name": "python3"
  },
  "language_info": {
   "codemirror_mode": {
    "name": "ipython",
    "version": 3
   },
   "file_extension": ".py",
   "mimetype": "text/x-python",
   "name": "python",
   "nbconvert_exporter": "python",
   "pygments_lexer": "ipython3",
   "version": "3.6.5"
  }
 },
 "nbformat": 4,
 "nbformat_minor": 2
}
